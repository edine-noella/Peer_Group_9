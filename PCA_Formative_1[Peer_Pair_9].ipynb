{
  "cells": [
    {
      "cell_type": "markdown",
      "metadata": {
        "id": "JqkivgEHr_KW"
      },
      "source": [
        "# Formative Assignment: Advanced Linear Algebra (PCA)\n",
        "This notebook will guide you through the implementation of Principal Component Analysis (PCA). Fill in the missing code and provide the required answers in the appropriate sections. You will work with a dataset that is Africanized .\n",
        "\n",
        "Make sure to display outputs for each code cell when submitting."
      ]
    },
    {
      "cell_type": "markdown",
      "metadata": {
        "id": "xycIp758r_Kb"
      },
      "source": [
        "### Step 1: Load and Standardize the Data\n",
        "Before applying PCA, we must standardize the dataset. Standardization ensures that all features have a mean of 0 and a standard deviation of 1, which is essential for PCA.\n",
        "Fill in the code to standardize the dataset.\n",
        "\n",
        "STRICTLY - Write code that implements standardization based on the image below\n",
        "\n",
        "<img src='data:image/jpeg;base64,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'/>\n"
      ]
    },
    {
      "cell_type": "code",
      "execution_count": 4,
      "metadata": {
        "id": "BKihXBaBr_Kc",
        "colab": {
          "base_uri": "https://localhost:8080/"
        },
        "outputId": "9d78d7f3-7b37-4a57-f89a-e40f569dac33"
      },
      "outputs": [
        {
          "output_type": "stream",
          "name": "stdout",
          "text": [
            "\n",
            "Standardized Data Preview:\n",
            "[[-1.15980323 -0.69383623 -1.18669921 -0.26912227 -1.67927849 -1.25465753\n",
            "  -0.21312613 -1.40655153]\n",
            " [ 1.16072443  0.00700845  1.25255918  1.42804518  1.52238989 -0.02700828\n",
            "   0.13342042  1.44569933]\n",
            " [ 0.61884297 -1.39468091  0.03292999  1.42804518  0.66042215 -1.25465753\n",
            "   1.17306009  0.62782351]\n",
            " [-1.47377572 -1.39468091  0.03292999 -0.46308426 -0.03655456 -0.02700828\n",
            "   0.82651353 -1.53551212]\n",
            " [ 1.68188689 -0.69383623 -1.18669921  0.31276372  1.48080875 -1.25465753\n",
            "   0.82651353  1.66855179]]\n"
          ]
        }
      ],
      "source": [
        "# Step 1: Load and Standardize the data (use of numpy only allowed)\n",
        "\n",
        "import numpy as np\n",
        "import pandas as pd\n",
        "import matplotlib.pyplot as plt\n",
        "# https://www.kaggle.com/datasets/prokshitha/home-value-insights\n",
        "# https://drive.google.com/file/d/1KRyJNjHuizcL9F7u68R4ohTRMxfk8YbZ/view?usp=sharing\n",
        "\n",
        "# Step 1: Load the dataset from Google Drive\n",
        "file_id = \"1KRyJNjHuizcL9F7u68R4ohTRMxfk8YbZ\"\n",
        "url = f\"https://drive.google.com/uc?id={file_id}\"\n",
        "data = pd.read_csv(url)\n",
        "\n",
        "numeric_data = data.fillna(0).values  # Replace NaN with 0 if any\n",
        "\n",
        "# Standardize the data using NumPy only\n",
        "data_mean = np.mean(numeric_data, axis=0)\n",
        "data_std = np.std(numeric_data, axis=0)\n",
        "\n",
        "# Prevent division by zero\n",
        "data_std[data_std == 0] = 1\n",
        "\n",
        "# Standardize: (X - mean) / std\n",
        "standardized_data = (numeric_data - data_mean) / data_std\n",
        "\n",
        "# Show first 5 standardized rows\n",
        "print(\"\\nStandardized Data Preview:\")\n",
        "print(standardized_data[:5])"
      ]
    },
    {
      "cell_type": "markdown",
      "metadata": {
        "id": "Fybn40Syr_Kd"
      },
      "source": [
        "### Step 3: Calculate the Covariance Matrix\n",
        "The covariance matrix helps us understand how the features are related to each other. It is a key component in PCA."
      ]
    },
    {
      "cell_type": "code",
      "execution_count": 5,
      "metadata": {
        "id": "RbklA9tqr_Ke",
        "colab": {
          "base_uri": "https://localhost:8080/"
        },
        "outputId": "be480aaf-a22d-4db5-983e-9c6236bf2874"
      },
      "outputs": [
        {
          "output_type": "stream",
          "name": "stdout",
          "text": [
            "Covariance Matrix:\n",
            "[[ 1.001001   -0.04360756 -0.03161518 -0.0224148   0.08956819  0.03062358\n",
            "  -0.00836559  0.9922537 ]\n",
            " [-0.04360756  1.001001    0.02287089 -0.01583553 -0.00936438  0.11387483\n",
            "  -0.04907345  0.01464792]\n",
            " [-0.03161518  0.02287089  1.001001   -0.02108395  0.03495808  0.02487068\n",
            "   0.0176023  -0.00186396]\n",
            " [-0.0224148  -0.01583553 -0.02108395  1.001001   -0.06111144 -0.02551001\n",
            "  -0.00955855  0.05201938]\n",
            " [ 0.08956819 -0.00936438  0.03495808 -0.06111144  1.001001    0.00243854\n",
            "   0.037668    0.16057226]\n",
            " [ 0.03062358  0.11387483  0.02487068 -0.02551001  0.00243854  1.001001\n",
            "  -0.01129816  0.05218544]\n",
            " [-0.00836559 -0.04907345  0.0176023  -0.00955855  0.037668   -0.01129816\n",
            "   1.001001   -0.00777781]\n",
            " [ 0.9922537   0.01464792 -0.00186396  0.05201938  0.16057226  0.05218544\n",
            "  -0.00777781  1.001001  ]]\n"
          ]
        }
      ],
      "source": [
        "# Step 3: Calculate the Covariance Matrix\n",
        "# Number of samples\n",
        "n_samples = standardized_data.shape[0]\n",
        "\n",
        "# Compute covariance matrix: (1 / (n-1)) * X^T * X\n",
        "cov_matrix = (1 / (n_samples - 1)) * np.dot(standardized_data.T, standardized_data)\n",
        "\n",
        "# Show the covariance matrix\n",
        "print(\"Covariance Matrix:\")\n",
        "print(cov_matrix)"
      ]
    },
    {
      "cell_type": "markdown",
      "metadata": {
        "id": "dWzqXsR0r_Ke"
      },
      "source": [
        "### Step 4: Perform Eigendecomposition\n",
        "Eigendecomposition of the covariance matrix will give us the eigenvalues and eigenvectors, which are essential for PCA.\n",
        "Fill in the code to compute the eigenvalues and eigenvectors of the covariance matrix."
      ]
    },
    {
      "cell_type": "code",
      "execution_count": 6,
      "metadata": {
        "id": "8Tm0rzdAr_Ke",
        "colab": {
          "base_uri": "https://localhost:8080/"
        },
        "outputId": "437dfd8d-a2d1-4e21-a709-edbde8038967"
      },
      "outputs": [
        {
          "output_type": "stream",
          "name": "stdout",
          "text": [
            "Eigenvalues:\n",
            "[2.02777533e+00 7.43812811e-04 1.14160329e+00 1.09017614e+00\n",
            " 8.75393663e-01 9.16519950e-01 9.88503764e-01 9.67292052e-01]\n",
            "\n",
            "Eigenvectors:\n",
            "[[ 6.92600476e-01 -7.00542476e-01 -3.90112238e-02  6.03701758e-02\n",
            "   5.99997004e-02 -1.43392762e-01 -1.47282066e-02  1.35065141e-04]\n",
            " [-1.52294053e-02 -4.05818868e-02  6.63392535e-01  1.57723244e-01\n",
            "   6.64830374e-01  2.84990317e-01  3.63251581e-02 -9.28249650e-02]\n",
            " [-1.61561379e-02 -1.89082692e-02  2.43529974e-01 -4.05566609e-01\n",
            "   2.17656525e-02 -2.72115007e-01  5.75707442e-01  6.07972824e-01]\n",
            " [ 9.50777870e-03 -5.71537902e-02 -2.21345358e-01  5.10248917e-01\n",
            "  -1.40689524e-01  4.72916214e-01  6.66085795e-01  1.34814104e-02]\n",
            " [ 1.68665821e-01 -5.40433256e-02  4.03190025e-02 -5.62388843e-01\n",
            "  -2.09604889e-01  7.58508656e-01 -1.47631073e-01  9.82843001e-02]\n",
            " [ 5.43110960e-02 -1.17202605e-02  6.31211737e-01  4.08909950e-02\n",
            "  -6.47965537e-01 -1.20042700e-01  1.32723782e-01 -3.80693340e-01]\n",
            " [-4.98379909e-03 -6.57220760e-04 -2.23678496e-01 -4.74867806e-01\n",
            "   2.58285950e-01 -9.62775752e-02  4.26192624e-01 -6.83243786e-01]\n",
            " [ 6.98783611e-01  7.07750517e-01  1.37991908e-03  5.64612415e-02\n",
            "   6.02340806e-02 -3.88292513e-02  4.79950959e-02  1.27086838e-02]]\n"
          ]
        }
      ],
      "source": [
        "# Step 4: Perform Eigendecomposition\n",
        "# Use NumPy to compute eigenvalues and eigenvectors\n",
        "eigenvalues, eigenvectors = np.linalg.eig(cov_matrix)\n",
        "\n",
        "# Display the eigenvalues\n",
        "print(\"Eigenvalues:\")\n",
        "print(eigenvalues)\n",
        "\n",
        "# Display the eigenvectors\n",
        "print(\"\\nEigenvectors:\")\n",
        "print(eigenvectors)"
      ]
    },
    {
      "cell_type": "markdown",
      "metadata": {
        "id": "bp6o_4sTr_Kf"
      },
      "source": [
        "### Step 5: Sort Principal Components\n",
        "Sort the eigenvectors based on their corresponding eigenvalues in descending order. The higher the eigenvalue, the more important the eigenvector.\n",
        "Complete the code to sort the eigenvectors and print the sorted components.\n",
        "\n",
        "<a url ='https://www.youtube.com/watch?v=vaF-1xUEXsA&t=17s'>How Is Explained Variance Used In PCA?'<a/>"
      ]
    },
    {
      "cell_type": "code",
      "execution_count": 7,
      "metadata": {
        "id": "jpfoRz-Xr_Kf",
        "colab": {
          "base_uri": "https://localhost:8080/"
        },
        "outputId": "c591b8f3-7d1f-4a98-8272-64f5d7b949bc"
      },
      "outputs": [
        {
          "output_type": "stream",
          "name": "stdout",
          "text": [
            "Sorted Eigenvalues:\n",
            "[2.02777533e+00 1.14160329e+00 1.09017614e+00 9.88503764e-01\n",
            " 9.67292052e-01 9.16519950e-01 8.75393663e-01 7.43812811e-04]\n",
            "\n",
            "Corresponding Sorted Eigenvectors:\n",
            "[[ 6.92600476e-01 -3.90112238e-02  6.03701758e-02 -1.47282066e-02\n",
            "   1.35065141e-04 -1.43392762e-01  5.99997004e-02 -7.00542476e-01]\n",
            " [-1.52294053e-02  6.63392535e-01  1.57723244e-01  3.63251581e-02\n",
            "  -9.28249650e-02  2.84990317e-01  6.64830374e-01 -4.05818868e-02]\n",
            " [-1.61561379e-02  2.43529974e-01 -4.05566609e-01  5.75707442e-01\n",
            "   6.07972824e-01 -2.72115007e-01  2.17656525e-02 -1.89082692e-02]\n",
            " [ 9.50777870e-03 -2.21345358e-01  5.10248917e-01  6.66085795e-01\n",
            "   1.34814104e-02  4.72916214e-01 -1.40689524e-01 -5.71537902e-02]\n",
            " [ 1.68665821e-01  4.03190025e-02 -5.62388843e-01 -1.47631073e-01\n",
            "   9.82843001e-02  7.58508656e-01 -2.09604889e-01 -5.40433256e-02]\n",
            " [ 5.43110960e-02  6.31211737e-01  4.08909950e-02  1.32723782e-01\n",
            "  -3.80693340e-01 -1.20042700e-01 -6.47965537e-01 -1.17202605e-02]\n",
            " [-4.98379909e-03 -2.23678496e-01 -4.74867806e-01  4.26192624e-01\n",
            "  -6.83243786e-01 -9.62775752e-02  2.58285950e-01 -6.57220760e-04]\n",
            " [ 6.98783611e-01  1.37991908e-03  5.64612415e-02  4.79950959e-02\n",
            "   1.27086838e-02 -3.88292513e-02  6.02340806e-02  7.07750517e-01]]\n",
            "\n",
            "Explained Variance Ratio:\n",
            "[2.53218445e-01 1.42557711e-01 1.36135746e-01 1.23439408e-01\n",
            " 1.20790595e-01 1.14450429e-01 1.09314784e-01 9.28836248e-05]\n"
          ]
        }
      ],
      "source": [
        "# Step 5: Sort Principal Components\n",
        "# Get sorted indices of eigenvalues in descending order\n",
        "sorted_indices = np.argsort(eigenvalues)[::-1]\n",
        "\n",
        "# Sort eigenvalues and eigenvectors using those indices\n",
        "sorted_eigenvalues = eigenvalues[sorted_indices]\n",
        "sorted_eigenvectors = eigenvectors[:, sorted_indices]\n",
        "\n",
        "# Display sorted eigenvalues and eigenvectors\n",
        "print(\"Sorted Eigenvalues:\")\n",
        "print(sorted_eigenvalues)\n",
        "\n",
        "print(\"\\nCorresponding Sorted Eigenvectors:\")\n",
        "print(sorted_eigenvectors)\n",
        "\n",
        "# Optional: Explained variance ratio\n",
        "explained_variance_ratio = sorted_eigenvalues / np.sum(sorted_eigenvalues)\n",
        "print(\"\\nExplained Variance Ratio:\")\n",
        "print(explained_variance_ratio)\n"
      ]
    },
    {
      "cell_type": "markdown",
      "metadata": {
        "id": "uxbmuO27r_Kg"
      },
      "source": [
        "### Step 6: Project Data onto Principal Components\n",
        "Now that we’ve selected the number of components, we will project the original data onto the chosen principal components.\n",
        "Fill in the code to perform the projection."
      ]
    },
    {
      "cell_type": "code",
      "execution_count": null,
      "metadata": {
        "id": "ubjIMAtWr_Kg"
      },
      "outputs": [],
      "source": [
        "# Step 6: Project Data onto Principal Components\n"
      ]
    },
    {
      "cell_type": "markdown",
      "metadata": {
        "id": "XVq-b6vtr_Kg"
      },
      "source": [
        "### Step 7: Output the Reduced Data\n",
        "Finally, display the reduced data obtained by projecting the original dataset onto the selected principal components."
      ]
    },
    {
      "cell_type": "code",
      "execution_count": null,
      "metadata": {
        "id": "5D0uzRyPr_Kg"
      },
      "outputs": [],
      "source": [
        "# Step 7: Output the Reduced Data\n"
      ]
    },
    {
      "cell_type": "markdown",
      "metadata": {
        "id": "S1f8ROm5r_Kg"
      },
      "source": [
        "### Step 8: Visualize Before and After PCA\n",
        "Now, let's plot the original data and the data after PCA to compare the reduction in dimensions visually."
      ]
    },
    {
      "cell_type": "code",
      "execution_count": null,
      "metadata": {
        "id": "WwuppWV-r_Kg"
      },
      "outputs": [],
      "source": [
        "# Step 8: Visualize Before and After PCA\n",
        "\n"
      ]
    }
  ],
  "metadata": {
    "kernelspec": {
      "display_name": "Python 3",
      "name": "python3"
    },
    "language_info": {
      "name": "python"
    },
    "colab": {
      "provenance": []
    }
  },
  "nbformat": 4,
  "nbformat_minor": 0
}