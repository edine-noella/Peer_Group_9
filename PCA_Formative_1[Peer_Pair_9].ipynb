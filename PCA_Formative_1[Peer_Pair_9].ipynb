{
  "cells": [
    {
      "cell_type": "markdown",
      "metadata": {
        "id": "JqkivgEHr_KW"
      },
      "source": [
        "# Formative Assignment: Advanced Linear Algebra (PCA)\n",
        "This notebook will guide you through the implementation of Principal Component Analysis (PCA). Fill in the missing code and provide the required answers in the appropriate sections. You will work with a dataset that is Africanized .\n",
        "\n",
        "Make sure to display outputs for each code cell when submitting."
      ]
    },
    {
      "cell_type": "markdown",
      "metadata": {
        "id": "xycIp758r_Kb"
      },
      "source": [
        "### Step 1: Load and Standardize the Data\n",
        "Before applying PCA, we must standardize the dataset. Standardization ensures that all features have a mean of 0 and a standard deviation of 1, which is essential for PCA.\n",
        "Fill in the code to standardize the dataset.\n",
        "\n",
        "STRICTLY - Write code that implements standardization based on the image below\n",
        "\n",
        "<img src='data:image/jpeg;base64,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'/>\n"
      ]
    },
    {
      "cell_type": "code",
      "execution_count": 11,
      "metadata": {
        "id": "BKihXBaBr_Kc",
        "colab": {
          "base_uri": "https://localhost:8080/"
        },
        "outputId": "8978edb7-dce6-4b1f-973d-c39c3602e6e8"
      },
      "outputs": [
        {
          "output_type": "stream",
          "name": "stdout",
          "text": [
            "\n",
            "Standardized Data Preview:\n",
            "[[-1.70519568 -1.01800156 -0.82819294 -0.93575654 -0.84257979 -1.11860451\n",
            "  -1.04604681 -1.31913707 -0.8040672  -1.00523004 -0.63810834 -1.05258027\n",
            "  -0.69810215 -0.72900724 -1.05658135 -0.84442443 -1.39911009 -1.11325314\n",
            "  -0.96134348 -1.01804241 -0.87268704 -0.92169289 -0.85740505 -0.9846317\n",
            "  -0.97877888 -0.88663692 -0.83914377 -1.12272562 -0.93284004 -0.82536273\n",
            "  -1.04058758 -0.78494085 -0.83448385 -1.01285695]\n",
            " [-1.65106248 -1.02182128 -0.82644185 -0.93535412 -0.83912057 -1.11057031\n",
            "  -1.04321078 -1.30443675 -0.79963335 -1.00058882 -0.63608592 -1.04845069\n",
            "  -0.69446962 -0.72895515 -1.05529373 -0.85002684 -1.39731444 -1.10737309\n",
            "  -0.95512955 -1.01829685 -0.86442368 -0.92009215 -0.85657472 -0.97766577\n",
            "  -0.97948674 -0.88242764 -0.83546991 -1.11939259 -0.92835245 -0.81680513\n",
            "  -1.03749515 -0.78354309 -0.83631265 -1.00709155]\n",
            " [-1.59692929 -1.02755085 -0.82630011 -0.93491112 -0.83399929 -1.09851898\n",
            "  -1.04016162 -1.30263159 -0.794489   -0.9988945  -0.63416818 -1.04605859\n",
            "  -0.69107528 -0.72664444 -1.04821183 -0.84326027 -1.389844   -1.09832652\n",
            "  -0.95387695 -1.01043993 -0.85395127 -0.91748178 -0.8557444  -0.97432657\n",
            "  -0.9777171  -0.87167042 -0.8315756  -1.11528739 -0.92345082 -0.80329486\n",
            "  -1.03406661 -0.78297778 -0.83665653 -1.00432415]\n",
            " [-1.54279609 -1.01827439 -0.82306644 -0.93451586 -0.8314712  -1.07642492\n",
            "  -1.03839162 -1.29607562 -0.79141651 -0.99410598 -0.63194036 -1.05052703\n",
            "  -0.68434617 -0.72484641 -1.0422566  -0.83612994 -1.37826137 -1.09380403\n",
            "  -0.94212665 -1.00427634 -0.84151733 -0.91596914 -0.85491407 -0.96970671\n",
            "  -0.97555813 -0.86746103 -0.8274379  -1.10802509 -0.92238234 -0.78588087\n",
            "  -1.02759909 -0.77790973 -0.83385862 -0.99878935]\n",
            " [-1.4886629  -1.01554602 -0.82012881 -0.93394652 -0.82862742 -1.04428809\n",
            "  -1.03410287 -1.27914331 -0.78696355 -0.98777043 -0.62736726 -1.04086945\n",
            "  -0.67624741 -0.72262738 -1.03662327 -0.82019582 -1.35918089 -1.08407852\n",
            "  -0.94944161 -1.0011441  -0.84231008 -0.91368215 -0.85436052 -0.96129074\n",
            "  -0.97308063 -0.85062368 -0.82304764 -1.10033272 -0.92065942 -0.77154399\n",
            "  -1.01418767 -0.77240582 -0.82065061 -0.991179  ]]\n"
          ]
        }
      ],
      "source": [
        "# Step 1: Load and Standardize the data (use of numpy only allowed)\n",
        "\n",
        "import numpy as np\n",
        "import pandas as pd\n",
        "import matplotlib.pyplot as plt\n",
        "# https://www.kaggle.com/datasets/stealthtechnologies/gdp-growth-of-african-countries\n",
        "# https://drive.google.com/file/d/1KRb1vYv7DcDTK9d1mdzFyCbJuMYICYmc/view?usp=sharing\n",
        "\n",
        "# Step 1: Load the dataset from Google Drive\n",
        "file_id = \"1KRb1vYv7DcDTK9d1mdzFyCbJuMYICYmc\"\n",
        "url = f\"https://drive.google.com/uc?id={file_id}\"\n",
        "data = pd.read_csv(url)\n",
        "\n",
        "numeric_data = data.fillna(0).values  # Replace NaN with 0 if any\n",
        "\n",
        "# Standardize the data using NumPy only\n",
        "data_mean = np.mean(numeric_data, axis=0)\n",
        "data_std = np.std(numeric_data, axis=0)\n",
        "\n",
        "# Prevent division by zero\n",
        "data_std[data_std == 0] = 1\n",
        "\n",
        "# Standardize: (X - mean) / std\n",
        "standardized_data = (numeric_data - data_mean) / data_std\n",
        "\n",
        "# Show first 5 standardized rows\n",
        "print(\"\\nStandardized Data Preview:\")\n",
        "print(standardized_data[:5])"
      ]
    },
    {
      "cell_type": "markdown",
      "metadata": {
        "id": "Fybn40Syr_Kd"
      },
      "source": [
        "### Step 3: Calculate the Covariance Matrix\n",
        "The covariance matrix helps us understand how the features are related to each other. It is a key component in PCA."
      ]
    },
    {
      "cell_type": "code",
      "execution_count": 12,
      "metadata": {
        "id": "RbklA9tqr_Ke",
        "colab": {
          "base_uri": "https://localhost:8080/"
        },
        "outputId": "73ed7ed1-b676-49a7-97f0-7bb3388850b9"
      },
      "outputs": [
        {
          "output_type": "stream",
          "name": "stdout",
          "text": [
            "Covariance Matrix:\n",
            "[[1.01587302 0.91676595 0.90012161 ... 0.85595832 0.85024826 0.83146391]\n",
            " [0.91676595 1.01587302 0.96584723 ... 0.94864614 0.9895836  0.86625959]\n",
            " [0.90012161 0.96584723 1.01587302 ... 0.9949253  0.97282374 0.91105865]\n",
            " ...\n",
            " [0.85595832 0.94864614 0.9949253  ... 1.01587302 0.9708682  0.9366027 ]\n",
            " [0.85024826 0.9895836  0.97282374 ... 0.9708682  1.01587302 0.88834098]\n",
            " [0.83146391 0.86625959 0.91105865 ... 0.9366027  0.88834098 1.01587302]]\n"
          ]
        }
      ],
      "source": [
        "# Step 3: Calculate the Covariance Matrix\n",
        "# Number of samples\n",
        "n_samples = standardized_data.shape[0]\n",
        "\n",
        "# Compute covariance matrix: (1 / (n-1)) * X^T * X\n",
        "cov_matrix = (1 / (n_samples - 1)) * np.dot(standardized_data.T, standardized_data)\n",
        "\n",
        "# Show the covariance matrix\n",
        "print(\"Covariance Matrix:\")\n",
        "print(cov_matrix)"
      ]
    },
    {
      "cell_type": "markdown",
      "metadata": {
        "id": "dWzqXsR0r_Ke"
      },
      "source": [
        "### Step 4: Perform Eigendecomposition\n",
        "Eigendecomposition of the covariance matrix will give us the eigenvalues and eigenvectors, which are essential for PCA.\n",
        "Fill in the code to compute the eigenvalues and eigenvectors of the covariance matrix."
      ]
    },
    {
      "cell_type": "code",
      "execution_count": 13,
      "metadata": {
        "id": "8Tm0rzdAr_Ke",
        "colab": {
          "base_uri": "https://localhost:8080/"
        },
        "outputId": "ca40e68b-9536-4e26-9a78-ed5efa0e89b1"
      },
      "outputs": [
        {
          "output_type": "stream",
          "name": "stdout",
          "text": [
            "Eigenvalues:\n",
            "[3.18894955e+01 1.11569426e+00 3.94035711e-01 3.43553999e-01\n",
            " 2.56308309e-01 1.42198886e-01 1.06975602e-01 5.99034450e-02\n",
            " 4.65830679e-02 3.73218157e-02 3.22417046e-02 2.33054425e-02\n",
            " 2.02374925e-02 1.40455452e-02 1.16952399e-02 9.46600025e-03\n",
            " 7.28369706e-03 6.69252998e-03 4.04871057e-03 3.79549579e-03\n",
            " 2.99456817e-03 2.60584165e-03 2.30533889e-03 1.53437824e-03\n",
            " 7.32356378e-05 1.11159250e-04 1.09151991e-03 3.23471080e-04\n",
            " 3.63702712e-04 4.25377599e-04 9.21629203e-04 5.72909700e-04\n",
            " 7.06841204e-04 7.70067694e-04]\n",
            "\n",
            "Eigenvectors:\n",
            "[[-0.16390415  0.23652861 -0.26853421 ...  0.05435264  0.04775675\n",
            "   0.00626071]\n",
            " [-0.1740726   0.13722243  0.13819895 ...  0.18546918 -0.12814651\n",
            "   0.44113793]\n",
            " [-0.17658297 -0.06793378 -0.06741625 ...  0.1639344  -0.17393714\n",
            "  -0.18240657]\n",
            " ...\n",
            " [-0.17412564 -0.15718276  0.02510072 ...  0.10862235 -0.22576944\n",
            "  -0.04242354]\n",
            " [-0.17340172  0.01001099  0.26139669 ... -0.02125078 -0.0379184\n",
            "  -0.02780776]\n",
            " [-0.16360502 -0.22412893  0.07482436 ... -0.03810875  0.02868881\n",
            "   0.02145079]]\n"
          ]
        }
      ],
      "source": [
        "# Step 4: Perform Eigendecomposition\n",
        "# Use NumPy to compute eigenvalues and eigenvectors\n",
        "eigenvalues, eigenvectors = np.linalg.eig(cov_matrix)\n",
        "\n",
        "# Display the eigenvalues\n",
        "print(\"Eigenvalues:\")\n",
        "print(eigenvalues)\n",
        "\n",
        "# Display the eigenvectors\n",
        "print(\"\\nEigenvectors:\")\n",
        "print(eigenvectors)"
      ]
    },
    {
      "cell_type": "markdown",
      "metadata": {
        "id": "bp6o_4sTr_Kf"
      },
      "source": [
        "### Step 5: Sort Principal Components\n",
        "Sort the eigenvectors based on their corresponding eigenvalues in descending order. The higher the eigenvalue, the more important the eigenvector.\n",
        "Complete the code to sort the eigenvectors and print the sorted components.\n",
        "\n",
        "<a url ='https://www.youtube.com/watch?v=vaF-1xUEXsA&t=17s'>How Is Explained Variance Used In PCA?'<a/>"
      ]
    },
    {
      "cell_type": "code",
      "execution_count": 22,
      "metadata": {
        "id": "jpfoRz-Xr_Kf",
        "colab": {
          "base_uri": "https://localhost:8080/"
        },
        "outputId": "adabffe2-c6b2-4b19-f8fb-759a244fbc32"
      },
      "outputs": [
        {
          "output_type": "stream",
          "name": "stdout",
          "text": [
            "Sorted Eigenvalues:\n",
            "[3.18894955e+01 1.11569426e+00 3.94035711e-01 3.43553999e-01\n",
            " 2.56308309e-01 1.42198886e-01 1.06975602e-01 5.99034450e-02\n",
            " 4.65830679e-02 3.73218157e-02 3.22417046e-02 2.33054425e-02\n",
            " 2.02374925e-02 1.40455452e-02 1.16952399e-02 9.46600025e-03\n",
            " 7.28369706e-03 6.69252998e-03 4.04871057e-03 3.79549579e-03\n",
            " 2.99456817e-03 2.60584165e-03 2.30533889e-03 1.53437824e-03\n",
            " 1.09151991e-03 9.21629203e-04 7.70067694e-04 7.06841204e-04\n",
            " 5.72909700e-04 4.25377599e-04 3.63702712e-04 3.23471080e-04\n",
            " 1.11159250e-04 7.32356378e-05]\n",
            "\n",
            "Corresponding Sorted Eigenvectors:\n",
            "[[-0.16390415  0.23652861 -0.26853421 ... -0.13202475 -0.03566081\n",
            "   0.0250724 ]\n",
            " [-0.1740726   0.13722243  0.13819895 ... -0.1834193  -0.17419421\n",
            "   0.04157824]\n",
            " [-0.17658297 -0.06793378 -0.06741625 ...  0.02439688  0.33707922\n",
            "   0.34460953]\n",
            " ...\n",
            " [-0.17412564 -0.15718276  0.02510072 ...  0.29917664  0.01027183\n",
            "  -0.04035268]\n",
            " [-0.17340172  0.01001099  0.26139669 ... -0.05138919 -0.00040986\n",
            "  -0.04430532]\n",
            " [-0.16360502 -0.22412893  0.07482436 ...  0.01203585 -0.01568614\n",
            "   0.00109003]]\n",
            "\n",
            "Explained Variance Ratio:\n",
            "[9.23271241e-01 3.23018099e-02 1.14082030e-02 9.94664611e-03\n",
            " 7.42069094e-03 4.11697143e-03 3.09717966e-03 1.73433687e-03\n",
            " 1.34868257e-03 1.08054889e-03 9.33468470e-04 6.74743968e-04\n",
            " 5.85920051e-04 4.06649516e-04 3.38602992e-04 2.74061588e-04\n",
            " 2.10879097e-04 1.93763506e-04 1.17219102e-04 1.09887975e-04\n",
            " 8.66993543e-05 7.54448640e-05 6.67446462e-05 4.44236347e-05\n",
            " 3.16019091e-05 2.66831984e-05 2.22951584e-05 2.04646121e-05\n",
            " 1.65869996e-05 1.23156198e-05 1.05299958e-05 9.36520132e-06\n",
            " 3.21830549e-06 2.12033326e-06]\n"
          ]
        }
      ],
      "source": [
        "# Step 5: Sort Principal Components\n",
        "# Get sorted indices of eigenvalues in descending order\n",
        "sorted_indices = np.argsort(eigenvalues)[::-1]\n",
        "\n",
        "# Sort eigenvalues and eigenvectors using those indices\n",
        "sorted_eigenvalues = eigenvalues[sorted_indices]\n",
        "sorted_eigenvectors = eigenvectors[:, sorted_indices]\n",
        "\n",
        "# Display sorted eigenvalues and eigenvectors\n",
        "print(\"Sorted Eigenvalues:\")\n",
        "print(sorted_eigenvalues)\n",
        "\n",
        "print(\"\\nCorresponding Sorted Eigenvectors:\")\n",
        "print(sorted_eigenvectors)\n",
        "\n",
        "# Optional: Explained variance ratio\n",
        "explained_variance_ratio = sorted_eigenvalues / np.sum(sorted_eigenvalues)\n",
        "print(\"\\nExplained Variance Ratio:\")\n",
        "print(explained_variance_ratio)\n"
      ]
    },
    {
      "cell_type": "markdown",
      "metadata": {
        "id": "uxbmuO27r_Kg"
      },
      "source": [
        "### Step 6: Project Data onto Principal Components\n",
        "Now that we’ve selected the number of components, we will project the original data onto the chosen principal components.\n",
        "Fill in the code to perform the projection."
      ]
    },
    {
      "cell_type": "code",
      "execution_count": 21,
      "metadata": {
        "id": "ubjIMAtWr_Kg",
        "colab": {
          "base_uri": "https://localhost:8080/"
        },
        "outputId": "15a6cf4e-149f-420f-b724-4d188217895b"
      },
      "outputs": [
        {
          "output_type": "execute_result",
          "data": {
            "text/plain": [
              "array([[ 5.64766768, -0.90698721],\n",
              "       [ 5.62079531, -0.89324774],\n",
              "       [ 5.58869277, -0.88262618],\n",
              "       [ 5.54853887, -0.87056278],\n",
              "       [ 5.49848296, -0.85627609]])"
            ]
          },
          "metadata": {},
          "execution_count": 21
        }
      ],
      "source": [
        "# Step 6: Project Data onto Principal Components\n",
        "\n",
        "num_components = 2\n",
        "top_eigenvectors = sorted_eigenvectors[:, :num_components]\n",
        "reduced_data = standardized_data @ top_eigenvectors\n",
        "reduced_data[:5]\n"
      ]
    },
    {
      "cell_type": "markdown",
      "metadata": {
        "id": "XVq-b6vtr_Kg"
      },
      "source": [
        "### Step 7: Output the Reduced Data\n",
        "Finally, display the reduced data obtained by projecting the original dataset onto the selected principal components."
      ]
    },
    {
      "cell_type": "code",
      "execution_count": 20,
      "metadata": {
        "id": "5D0uzRyPr_Kg",
        "colab": {
          "base_uri": "https://localhost:8080/"
        },
        "outputId": "6dd43a39-b907-48f9-8dc6-b5ed65c82a19"
      },
      "outputs": [
        {
          "output_type": "stream",
          "name": "stdout",
          "text": [
            "Reduced Data Shape: (64, 2)\n",
            "[[ 5.64766768 -0.90698721]\n",
            " [ 5.62079531 -0.89324774]\n",
            " [ 5.58869277 -0.88262618]\n",
            " [ 5.54853887 -0.87056278]\n",
            " [ 5.49848296 -0.85627609]]\n"
          ]
        }
      ],
      "source": [
        "# Step 7: Output the Reduced Data\n",
        "\n",
        "print(f'Reduced Data Shape: {reduced_data.shape}')  # Display reduced data shape\n",
        "print(reduced_data[:5])  # Display the first few rows of reduced data"
      ]
    },
    {
      "cell_type": "markdown",
      "metadata": {
        "id": "S1f8ROm5r_Kg"
      },
      "source": [
        "### Step 8: Visualize Before and After PCA\n",
        "Now, let's plot the original data and the data after PCA to compare the reduction in dimensions visually."
      ]
    },
    {
      "cell_type": "code",
      "execution_count": 19,
      "metadata": {
        "id": "WwuppWV-r_Kg",
        "colab": {
          "base_uri": "https://localhost:8080/",
          "height": 507
        },
        "outputId": "874fb459-477f-4612-d9a9-dfecfc152097"
      },
      "outputs": [
        {
          "output_type": "display_data",
          "data": {
            "text/plain": [
              "<Figure size 1200x500 with 2 Axes>"
            ],
            "image/png": "[encoded data removed]"
          },
          "metadata": {}
        }
      ],
      "source": [
        "# Step 8: Visualize Before and After PCA\n",
        "\n",
        "# Plot original data (first two features)\n",
        "plt.figure(figsize=(12, 5))\n",
        "\n",
        "plt.subplot(1, 2, 1)\n",
        "plt.scatter(standardized_data[:, 0], standardized_data[:, 1], alpha=0.7)\n",
        "plt.title('Original Data (first 2 features)')\n",
        "plt.xlabel('Feature 1')\n",
        "plt.ylabel('Feature 2')\n",
        "\n",
        "# Plot reduced data (first two principal components)\n",
        "plt.subplot(1, 2, 2)\n",
        "\n",
        "# If reduced_data has at least 2 components\n",
        "if reduced_data.shape[1] >= 2:\n",
        "    plt.scatter(reduced_data[:, 0], reduced_data[:, 1], alpha=0.7, color='orange')\n",
        "    plt.title('PCA Reduced Data (first 2 components)')\n",
        "    plt.xlabel('Principal Component 1')\n",
        "    plt.ylabel('Principal Component 2')\n",
        "else:\n",
        "    plt.text(0.5, 0.5, 'Reduced data has less than 2 components',\n",
        "             horizontalalignment='center', verticalalignment='center', fontsize=12)\n",
        "\n",
        "plt.tight_layout()\n",
        "plt.show()"
      ]
    }
  ],
  "metadata": {
    "kernelspec": {
      "display_name": "Python 3",
      "name": "python3"
    },
    "language_info": {
      "name": "python"
    },
    "colab": {
      "provenance": []
    }
  },
  "nbformat": 4,
  "nbformat_minor": 0
}